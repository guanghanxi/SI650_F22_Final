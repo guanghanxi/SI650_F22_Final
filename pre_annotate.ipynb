{
 "cells": [
  {
   "cell_type": "code",
   "execution_count": 1,
   "id": "3f34920a",
   "metadata": {},
   "outputs": [],
   "source": [
    "import json\n",
    "import pandas as pd\n",
    "from collections import Counter"
   ]
  },
  {
   "cell_type": "code",
   "execution_count": 2,
   "id": "8cfb7a23",
   "metadata": {},
   "outputs": [],
   "source": [
    "import pyterrier as pt\n",
    "import os"
   ]
  },
  {
   "cell_type": "code",
   "execution_count": 3,
   "id": "6d29548b",
   "metadata": {},
   "outputs": [],
   "source": [
    "os.environ[\"JAVA_HOME\"] = \"C:\\Program Files\\Java\\jdk-19\""
   ]
  },
  {
   "cell_type": "code",
   "execution_count": 4,
   "id": "62c0241c",
   "metadata": {},
   "outputs": [
    {
     "name": "stderr",
     "output_type": "stream",
     "text": [
      "PyTerrier 0.9.1 has loaded Terrier 5.7 (built by craigm on 2022-11-10 18:30) and terrier-helper 0.0.7\n",
      "\n"
     ]
    }
   ],
   "source": [
    "if not pt.started():\n",
    "    pt.init()"
   ]
  },
  {
   "cell_type": "code",
   "execution_count": 6,
   "id": "581f7879",
   "metadata": {},
   "outputs": [],
   "source": [
    "with open(\"selected_articles.json\", 'r') as file_read:\n",
    "    selected_articles = json.load(file_read)"
   ]
  },
  {
   "cell_type": "code",
   "execution_count": 7,
   "id": "31882fba",
   "metadata": {},
   "outputs": [],
   "source": [
    "articles_df = pd.DataFrame(selected_articles)\n",
    "modified_df = articles_df[[\"id\", \"authors\", \"title\", \"abstract\"]].dropna()"
   ]
  },
  {
   "cell_type": "code",
   "execution_count": 8,
   "id": "75542155",
   "metadata": {},
   "outputs": [
    {
     "data": {
      "text/html": [
       "<div>\n",
       "<style scoped>\n",
       "    .dataframe tbody tr th:only-of-type {\n",
       "        vertical-align: middle;\n",
       "    }\n",
       "\n",
       "    .dataframe tbody tr th {\n",
       "        vertical-align: top;\n",
       "    }\n",
       "\n",
       "    .dataframe thead th {\n",
       "        text-align: right;\n",
       "    }\n",
       "</style>\n",
       "<table border=\"1\" class=\"dataframe\">\n",
       "  <thead>\n",
       "    <tr style=\"text-align: right;\">\n",
       "      <th></th>\n",
       "      <th>docno</th>\n",
       "      <th>authors</th>\n",
       "      <th>title</th>\n",
       "      <th>abstract</th>\n",
       "    </tr>\n",
       "  </thead>\n",
       "  <tbody>\n",
       "    <tr>\n",
       "      <th>0</th>\n",
       "      <td>0704.0046</td>\n",
       "      <td>I. Csiszar, F. Hiai and D. Petz</td>\n",
       "      <td>A limit relation for entropy and channel capac...</td>\n",
       "      <td>In a quantum mechanical model, Diosi, Feldma...</td>\n",
       "    </tr>\n",
       "    <tr>\n",
       "      <th>1</th>\n",
       "      <td>0704.0047</td>\n",
       "      <td>T. Kosel and I. Grabec</td>\n",
       "      <td>Intelligent location of simultaneously active ...</td>\n",
       "      <td>The intelligent acoustic emission locator is...</td>\n",
       "    </tr>\n",
       "    <tr>\n",
       "      <th>2</th>\n",
       "      <td>0704.0050</td>\n",
       "      <td>T. Kosel and I. Grabec</td>\n",
       "      <td>Intelligent location of simultaneously active ...</td>\n",
       "      <td>Part I describes an intelligent acoustic emi...</td>\n",
       "    </tr>\n",
       "    <tr>\n",
       "      <th>3</th>\n",
       "      <td>0704.0098</td>\n",
       "      <td>Jack Raymond, David Saad</td>\n",
       "      <td>Sparsely-spread CDMA - a statistical mechanics...</td>\n",
       "      <td>Sparse Code Division Multiple Access (CDMA),...</td>\n",
       "    </tr>\n",
       "    <tr>\n",
       "      <th>4</th>\n",
       "      <td>0704.0217</td>\n",
       "      <td>Wiroonsak Santipach and Michael L. Honig</td>\n",
       "      <td>Capacity of a Multiple-Antenna Fading Channel ...</td>\n",
       "      <td>Given a multiple-input multiple-output (MIMO...</td>\n",
       "    </tr>\n",
       "    <tr>\n",
       "      <th>...</th>\n",
       "      <td>...</td>\n",
       "      <td>...</td>\n",
       "      <td>...</td>\n",
       "      <td>...</td>\n",
       "    </tr>\n",
       "    <tr>\n",
       "      <th>219356</th>\n",
       "      <td>quant-ph/0703112</td>\n",
       "      <td>Markus Grassl, Andreas Klappenecker, Martin Ro...</td>\n",
       "      <td>Graphs, Quadratic Forms, and Quantum Codes</td>\n",
       "      <td>We show that any stabilizer code over a fini...</td>\n",
       "    </tr>\n",
       "    <tr>\n",
       "      <th>219357</th>\n",
       "      <td>quant-ph/0703113</td>\n",
       "      <td>Salah A. Aly, Markus Grassl, Andreas Klappenec...</td>\n",
       "      <td>Quantum Convolutional BCH Codes</td>\n",
       "      <td>Quantum convolutional codes can be used to p...</td>\n",
       "    </tr>\n",
       "    <tr>\n",
       "      <th>219358</th>\n",
       "      <td>quant-ph/0703181</td>\n",
       "      <td>Markus Grassl, Martin Roetteler</td>\n",
       "      <td>Quantum Block and Convolutional Codes from Sel...</td>\n",
       "      <td>We present a construction of self-orthogonal...</td>\n",
       "    </tr>\n",
       "    <tr>\n",
       "      <th>219359</th>\n",
       "      <td>quant-ph/0703182</td>\n",
       "      <td>Markus Grassl, Martin Roetteler</td>\n",
       "      <td>Constructions of Quantum Convolutional Codes</td>\n",
       "      <td>We address the problems of constructing quan...</td>\n",
       "    </tr>\n",
       "    <tr>\n",
       "      <th>219360</th>\n",
       "      <td>quant-ph/9809081</td>\n",
       "      <td>D.A. Lidar, D. Bacon and K.B. Whaley (UC Berke...</td>\n",
       "      <td>Concatenating Decoherence Free Subspaces with ...</td>\n",
       "      <td>An operator sum representation is derived fo...</td>\n",
       "    </tr>\n",
       "  </tbody>\n",
       "</table>\n",
       "<p>219361 rows × 4 columns</p>\n",
       "</div>"
      ],
      "text/plain": [
       "                   docno                                            authors  \\\n",
       "0              0704.0046                    I. Csiszar, F. Hiai and D. Petz   \n",
       "1              0704.0047                             T. Kosel and I. Grabec   \n",
       "2              0704.0050                             T. Kosel and I. Grabec   \n",
       "3              0704.0098                           Jack Raymond, David Saad   \n",
       "4              0704.0217           Wiroonsak Santipach and Michael L. Honig   \n",
       "...                  ...                                                ...   \n",
       "219356  quant-ph/0703112  Markus Grassl, Andreas Klappenecker, Martin Ro...   \n",
       "219357  quant-ph/0703113  Salah A. Aly, Markus Grassl, Andreas Klappenec...   \n",
       "219358  quant-ph/0703181                    Markus Grassl, Martin Roetteler   \n",
       "219359  quant-ph/0703182                    Markus Grassl, Martin Roetteler   \n",
       "219360  quant-ph/9809081  D.A. Lidar, D. Bacon and K.B. Whaley (UC Berke...   \n",
       "\n",
       "                                                    title  \\\n",
       "0       A limit relation for entropy and channel capac...   \n",
       "1       Intelligent location of simultaneously active ...   \n",
       "2       Intelligent location of simultaneously active ...   \n",
       "3       Sparsely-spread CDMA - a statistical mechanics...   \n",
       "4       Capacity of a Multiple-Antenna Fading Channel ...   \n",
       "...                                                   ...   \n",
       "219356         Graphs, Quadratic Forms, and Quantum Codes   \n",
       "219357                    Quantum Convolutional BCH Codes   \n",
       "219358  Quantum Block and Convolutional Codes from Sel...   \n",
       "219359       Constructions of Quantum Convolutional Codes   \n",
       "219360  Concatenating Decoherence Free Subspaces with ...   \n",
       "\n",
       "                                                 abstract  \n",
       "0         In a quantum mechanical model, Diosi, Feldma...  \n",
       "1         The intelligent acoustic emission locator is...  \n",
       "2         Part I describes an intelligent acoustic emi...  \n",
       "3         Sparse Code Division Multiple Access (CDMA),...  \n",
       "4         Given a multiple-input multiple-output (MIMO...  \n",
       "...                                                   ...  \n",
       "219356    We show that any stabilizer code over a fini...  \n",
       "219357    Quantum convolutional codes can be used to p...  \n",
       "219358    We present a construction of self-orthogonal...  \n",
       "219359    We address the problems of constructing quan...  \n",
       "219360    An operator sum representation is derived fo...  \n",
       "\n",
       "[219361 rows x 4 columns]"
      ]
     },
     "execution_count": 8,
     "metadata": {},
     "output_type": "execute_result"
    }
   ],
   "source": [
    "modified_df.columns = [\"docno\", \"authors\", \"title\", \"abstract\"]\n",
    "modified_df"
   ]
  },
  {
   "cell_type": "code",
   "execution_count": null,
   "id": "1338ade0",
   "metadata": {},
   "outputs": [
    {
     "name": "stdout",
     "output_type": "stream",
     "text": [
      "23:44:41.165 [main] WARN org.terrier.structures.indexing.Indexer - Adding an empty document to the index (1602.00251) - further warnings are suppressed\r\n"
     ]
    }
   ],
   "source": [
    "pt_index_path = \"F:/2022Fall/SI650/Project/pre_arxiv_index\"\n",
    "\n",
    "if not os.path.exists(pt_index_path + \"/data.properties\"):\n",
    "\n",
    "    indexer = pt.DFIndexer(pt_index_path, overwrite=True)\n",
    "    index_ref = indexer.index(modified_df[\"abstract\"], modified_df[\"docno\"])\n",
    "\n",
    "else:\n",
    "    \n",
    "    index_ref = pt.IndexRef.of(pt_index_path + \"/data.properties\")\n",
    "    \n",
    "index = pt.IndexFactory.of(index_ref)\n"
   ]
  },
  {
   "cell_type": "code",
   "execution_count": null,
   "id": "ccb86ee6",
   "metadata": {},
   "outputs": [],
   "source": [
    "print(index.getCollectionStatistics().toString())"
   ]
  },
  {
   "cell_type": "code",
   "execution_count": null,
   "id": "9b7b2ef2",
   "metadata": {},
   "outputs": [],
   "source": [
    "tfidf = pt.BatchRetrieve(index, wmodel=\"TF_IDF\", num_results = 70)\n",
    "bm25 = pt.BatchRetrieve(index, wmodel=\"BM25\", num_results = 70)\n",
    "pl2 = pt.BatchRetrieve(index, wmodel=\"PL2\", num_results = 70)\n",
    "dlh13 = pt.BatchRetrieve(index, wmodel=\"DLH13\", num_results = 70)\n",
    "XSqrA_M = pt.BatchRetrieve(index, wmodel=\"XSqrA_M\", num_results = 70)\n",
    "pipline = tfidf | bm25 | pl2 | dlh13 | XSqrA_M"
   ]
  },
  {
   "cell_type": "code",
   "execution_count": null,
   "id": "68f87e5e",
   "metadata": {},
   "outputs": [],
   "source": [
    "pipline.search(\"random forests\")"
   ]
  },
  {
   "cell_type": "code",
   "execution_count": null,
   "id": "71d59366",
   "metadata": {},
   "outputs": [],
   "source": [
    "queries = [\"learning to rank with partitioned preference\",\n",
    "           \"advanced search engine\",\n",
    "           \"random forests\",\n",
    "           \"database management system\",\n",
    "           \"pre-trained language model\",\n",
    "           \"matrix completion\",\n",
    "           \"query expansion for information retrieval\",\n",
    "           \"gradient boosting\",\n",
    "           \"node embedding for graph\",\n",
    "           \"language model for long documents\",\n",
    "           \"web archive\",\n",
    "           \"PageRank for web search\",\n",
    "           \"COVID-19 and social media\",\n",
    "           \"social network analysis with natural language processing\",\n",
    "           \"text summarization model\",\n",
    "           \"relevance feedback for information retrieval\",\n",
    "           \"activation function in neural networks\",\n",
    "           \"robustness of neural networks\",\n",
    "           \"information retrieval time complexity\",\n",
    "           \"artificial intelligence for low carbon\"\n",
    "]"
   ]
  },
  {
   "cell_type": "code",
   "execution_count": null,
   "id": "73c1af8b",
   "metadata": {},
   "outputs": [],
   "source": [
    "query_df = pd.DataFrame( queries, columns = [\"query\"])\n",
    "query_df[\"qid\"] = query_df.index\n",
    "query_df"
   ]
  },
  {
   "cell_type": "code",
   "execution_count": null,
   "id": "f8baa28b",
   "metadata": {},
   "outputs": [],
   "source": [
    "raw_results = pipline(query_df)"
   ]
  },
  {
   "cell_type": "code",
   "execution_count": null,
   "id": "97f4f2bd",
   "metadata": {},
   "outputs": [],
   "source": [
    "raw_results"
   ]
  },
  {
   "cell_type": "code",
   "execution_count": null,
   "id": "70a0b954",
   "metadata": {},
   "outputs": [],
   "source": [
    "results = raw_results.merge(modified_df, on = \"docno\")"
   ]
  },
  {
   "cell_type": "code",
   "execution_count": null,
   "id": "86262110",
   "metadata": {},
   "outputs": [],
   "source": [
    "results[results[\"qid\"] == \"19\"]"
   ]
  },
  {
   "cell_type": "code",
   "execution_count": null,
   "id": "92bff9f4",
   "metadata": {},
   "outputs": [],
   "source": [
    "results.to_csv(\"raw_doc_query.csv\")"
   ]
  },
  {
   "cell_type": "code",
   "execution_count": null,
   "id": "9b30825e",
   "metadata": {},
   "outputs": [],
   "source": [
    "results.sample(frac=1).to_csv(\"doc_query.csv\")"
   ]
  },
  {
   "cell_type": "code",
   "execution_count": null,
   "id": "0494cdb8",
   "metadata": {},
   "outputs": [],
   "source": [
    "results"
   ]
  },
  {
   "cell_type": "code",
   "execution_count": null,
   "id": "1f279e97",
   "metadata": {},
   "outputs": [],
   "source": []
  }
 ],
 "metadata": {
  "kernelspec": {
   "display_name": "Python 3 (ipykernel)",
   "language": "python",
   "name": "python3"
  },
  "language_info": {
   "codemirror_mode": {
    "name": "ipython",
    "version": 3
   },
   "file_extension": ".py",
   "mimetype": "text/x-python",
   "name": "python",
   "nbconvert_exporter": "python",
   "pygments_lexer": "ipython3",
   "version": "3.9.1"
  }
 },
 "nbformat": 4,
 "nbformat_minor": 5
}
