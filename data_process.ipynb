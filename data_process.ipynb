{
 "cells": [
  {
   "cell_type": "code",
   "execution_count": 1,
   "id": "3f34920a",
   "metadata": {},
   "outputs": [],
   "source": [
    "import json\n",
    "import pandas as pd\n",
    "from collections import Counter"
   ]
  },
  {
   "cell_type": "code",
   "execution_count": 6,
   "id": "3be82fbc",
   "metadata": {},
   "outputs": [],
   "source": [
    "articles = []\n",
    "with open('archive/arxiv-metadata-oai-snapshot.json') as f:\n",
    "    for l in f:\n",
    "        d = json.loads(l)\n",
    "        articles.append(d)"
   ]
  },
  {
   "cell_type": "code",
   "execution_count": 7,
   "id": "2b9d5350",
   "metadata": {},
   "outputs": [
    {
     "data": {
      "text/plain": [
       "{'id': '0704.0021',\n",
       " 'submitter': 'Yuichi Togashi',\n",
       " 'authors': 'Vanessa Casagrande, Yuichi Togashi, Alexander S. Mikhailov',\n",
       " 'title': 'Molecular Synchronization Waves in Arrays of Allosterically Regulated\\n  Enzymes',\n",
       " 'comments': '5 pages, 4 figures',\n",
       " 'journal-ref': 'Phys. Rev. Lett. 99, 048301 (2007)',\n",
       " 'doi': '10.1103/PhysRevLett.99.048301',\n",
       " 'report-no': None,\n",
       " 'categories': 'nlin.PS physics.chem-ph q-bio.MN',\n",
       " 'license': None,\n",
       " 'abstract': '  Spatiotemporal pattern formation in a product-activated enzymic reaction at\\nhigh enzyme concentrations is investigated. Stochastic simulations show that\\ncatalytic turnover cycles of individual enzymes can become coherent and that\\ncomplex wave patterns of molecular synchronization can develop. The analysis\\nbased on the mean-field approximation indicates that the observed patterns\\nresult from the presence of Hopf and wave bifurcations in the considered\\nsystem.\\n',\n",
       " 'versions': [{'version': 'v1', 'created': 'Sat, 31 Mar 2007 12:57:59 GMT'},\n",
       "  {'version': 'v2', 'created': 'Tue, 24 Jul 2007 04:01:20 GMT'}],\n",
       " 'update_date': '2007-07-24',\n",
       " 'authors_parsed': [['Casagrande', 'Vanessa', ''],\n",
       "  ['Togashi', 'Yuichi', ''],\n",
       "  ['Mikhailov', 'Alexander S.', '']]}"
      ]
     },
     "execution_count": 7,
     "metadata": {},
     "output_type": "execute_result"
    }
   ],
   "source": [
    "articles[20]"
   ]
  },
  {
   "cell_type": "code",
   "execution_count": 8,
   "id": "afcd1102",
   "metadata": {},
   "outputs": [
    {
     "data": {
      "text/plain": [
       "2155072"
      ]
     },
     "execution_count": 8,
     "metadata": {},
     "output_type": "execute_result"
    }
   ],
   "source": [
    "len(articles)"
   ]
  },
  {
   "cell_type": "code",
   "execution_count": 10,
   "id": "c541ac54",
   "metadata": {},
   "outputs": [],
   "source": [
    "def if_cs(article):\n",
    "    categories = article[\"categories\"].split(\" \")\n",
    "    result = False\n",
    "    for category in categories:\n",
    "        if category.split('.')[0] == \"cs\":\n",
    "            result = True\n",
    "            break\n",
    "            \n",
    "    return result"
   ]
  },
  {
   "cell_type": "code",
   "execution_count": 14,
   "id": "8d416740",
   "metadata": {},
   "outputs": [],
   "source": [
    "cs_articles = list(filter(if_cs, articles))"
   ]
  },
  {
   "cell_type": "code",
   "execution_count": 15,
   "id": "5b8df39d",
   "metadata": {},
   "outputs": [
    {
     "data": {
      "text/plain": [
       "468624"
      ]
     },
     "execution_count": 15,
     "metadata": {},
     "output_type": "execute_result"
    }
   ],
   "source": [
    "len(cs_articles)"
   ]
  },
  {
   "cell_type": "code",
   "execution_count": 16,
   "id": "bf174a91",
   "metadata": {},
   "outputs": [
    {
     "data": {
      "text/plain": [
       "{'id': '0704.0047',\n",
       " 'submitter': 'Igor Grabec',\n",
       " 'authors': 'T. Kosel and I. Grabec',\n",
       " 'title': 'Intelligent location of simultaneously active acoustic emission sources:\\n  Part I',\n",
       " 'comments': '5 pages, 5 eps figures, uses IEEEtran.cls',\n",
       " 'journal-ref': None,\n",
       " 'doi': None,\n",
       " 'report-no': None,\n",
       " 'categories': 'cs.NE cs.AI',\n",
       " 'license': None,\n",
       " 'abstract': '  The intelligent acoustic emission locator is described in Part I, while Part\\nII discusses blind source separation, time delay estimation and location of two\\nsimultaneously active continuous acoustic emission sources.\\n  The location of acoustic emission on complicated aircraft frame structures is\\na difficult problem of non-destructive testing. This article describes an\\nintelligent acoustic emission source locator. The intelligent locator comprises\\na sensor antenna and a general regression neural network, which solves the\\nlocation problem based on learning from examples. Locator performance was\\ntested on different test specimens. Tests have shown that the accuracy of\\nlocation depends on sound velocity and attenuation in the specimen, the\\ndimensions of the tested area, and the properties of stored data. The location\\naccuracy achieved by the intelligent locator is comparable to that obtained by\\nthe conventional triangulation method, while the applicability of the\\nintelligent locator is more general since analysis of sonic ray paths is\\navoided. This is a promising method for non-destructive testing of aircraft\\nframe structures by the acoustic emission method.\\n',\n",
       " 'versions': [{'version': 'v1', 'created': 'Sun, 1 Apr 2007 13:06:50 GMT'}],\n",
       " 'update_date': '2009-09-29',\n",
       " 'authors_parsed': [['Kosel', 'T.', ''], ['Grabec', 'I.', '']]}"
      ]
     },
     "execution_count": 16,
     "metadata": {},
     "output_type": "execute_result"
    }
   ],
   "source": [
    "cs_articles[2]"
   ]
  },
  {
   "cell_type": "code",
   "execution_count": 19,
   "id": "f1459b5d",
   "metadata": {},
   "outputs": [],
   "source": [
    "cs_statics = []\n",
    "for cs_article in cs_articles:\n",
    "    categories = cs_article[\"categories\"].split(\" \")\n",
    "    for category in categories:\n",
    "        if category.split('.')[0] == \"cs\":\n",
    "            cs_statics.append(category)\n",
    "        "
   ]
  },
  {
   "cell_type": "code",
   "execution_count": 20,
   "id": "8d0e7573",
   "metadata": {},
   "outputs": [
    {
     "data": {
      "text/plain": [
       "Counter({'cs.CG': 5927,\n",
       "         'cs.IT': 40771,\n",
       "         'cs.NE': 11695,\n",
       "         'cs.AI': 54149,\n",
       "         'cs.DS': 20427,\n",
       "         'cs.CE': 5358,\n",
       "         'cs.MS': 1940,\n",
       "         'cs.NA': 16675,\n",
       "         'cs.CC': 9340,\n",
       "         'cs.DM': 11584,\n",
       "         'cs.LO': 13756,\n",
       "         'cs.CR': 24348,\n",
       "         'cs.NI': 18673,\n",
       "         'cs.LG': 123692,\n",
       "         'cs.PF': 3243,\n",
       "         'cs.SE': 12065,\n",
       "         'cs.AR': 3378,\n",
       "         'cs.SC': 2169,\n",
       "         'cs.CY': 13558,\n",
       "         'cs.IR': 12613,\n",
       "         'cs.CV': 84606,\n",
       "         'cs.OH': 2111,\n",
       "         'cs.DB': 7139,\n",
       "         'cs.DL': 4173,\n",
       "         'cs.HC': 11300,\n",
       "         'cs.PL': 6481,\n",
       "         'cs.GT': 9245,\n",
       "         'cs.DC': 17278,\n",
       "         'cs.MA': 5711,\n",
       "         'cs.CL': 39525,\n",
       "         'cs.MM': 4585,\n",
       "         'cs.RO': 21377,\n",
       "         'cs.ET': 3090,\n",
       "         'cs.GL': 197,\n",
       "         'cs.FL': 4205,\n",
       "         'cs.OS': 728,\n",
       "         'cs.SD': 9631,\n",
       "         'cs.GR': 4129,\n",
       "         'cs.SY': 23108,\n",
       "         'cs.SI': 16653})"
      ]
     },
     "execution_count": 20,
     "metadata": {},
     "output_type": "execute_result"
    }
   ],
   "source": [
    "Counter(cs_statics)"
   ]
  },
  {
   "cell_type": "code",
   "execution_count": 21,
   "id": "46bdb14d",
   "metadata": {},
   "outputs": [],
   "source": [
    "with open(\"cs_articles.json\", 'w') as file:\n",
    "    json.dump(cs_articles, file)"
   ]
  },
  {
   "cell_type": "code",
   "execution_count": 5,
   "id": "7d0a69dd",
   "metadata": {},
   "outputs": [],
   "source": [
    "with open(\"cs_articles.json\", 'r') as file_read:\n",
    "    cs_articles = json.load(file_read)"
   ]
  },
  {
   "cell_type": "code",
   "execution_count": 3,
   "id": "198e0d69",
   "metadata": {},
   "outputs": [
    {
     "data": {
      "text/plain": [
       "{'id': '0704.0046',\n",
       " 'submitter': 'Denes Petz',\n",
       " 'authors': 'I. Csiszar, F. Hiai and D. Petz',\n",
       " 'title': 'A limit relation for entropy and channel capacity per unit cost',\n",
       " 'comments': 'LATEX file, 11 pages',\n",
       " 'journal-ref': 'J. Math. Phys. 48(2007), 092102.',\n",
       " 'doi': '10.1063/1.2779138',\n",
       " 'report-no': None,\n",
       " 'categories': 'quant-ph cs.IT math.IT',\n",
       " 'license': None,\n",
       " 'abstract': '  In a quantum mechanical model, Diosi, Feldmann and Kosloff arrived at a\\nconjecture stating that the limit of the entropy of certain mixtures is the\\nrelative entropy as system size goes to infinity. The conjecture is proven in\\nthis paper for density matrices. The first proof is analytic and uses the\\nquantum law of large numbers. The second one clarifies the relation to channel\\ncapacity per unit cost for classical-quantum channels. Both proofs lead to\\ngeneralization of the conjecture.\\n',\n",
       " 'versions': [{'version': 'v1', 'created': 'Sun, 1 Apr 2007 16:37:36 GMT'}],\n",
       " 'update_date': '2009-11-13',\n",
       " 'authors_parsed': [['Csiszar', 'I.', ''],\n",
       "  ['Hiai', 'F.', ''],\n",
       "  ['Petz', 'D.', '']]}"
      ]
     },
     "execution_count": 3,
     "metadata": {},
     "output_type": "execute_result"
    }
   ],
   "source": [
    "csas[1]"
   ]
  },
  {
   "cell_type": "code",
   "execution_count": 4,
   "id": "a9356259",
   "metadata": {},
   "outputs": [],
   "source": [
    "category_list = [\"cs.AI\", \"cs.DB\", \"cs.DL\", \"cs.IR\", \"cs.IT\", \"cs.LG\", \"cs.SI\"]"
   ]
  },
  {
   "cell_type": "code",
   "execution_count": 9,
   "id": "9a3073cd",
   "metadata": {},
   "outputs": [],
   "source": [
    "selected_articles = []\n",
    "for cs_article in cs_articles:\n",
    "    categories = cs_article[\"categories\"].split(\" \")\n",
    "    for category in categories:\n",
    "        if category in category_list:\n",
    "            selected_articles.append(cs_article)\n",
    "            break"
   ]
  },
  {
   "cell_type": "code",
   "execution_count": 10,
   "id": "d5ff8f25",
   "metadata": {},
   "outputs": [
    {
     "data": {
      "text/plain": [
       "219361"
      ]
     },
     "execution_count": 10,
     "metadata": {},
     "output_type": "execute_result"
    }
   ],
   "source": [
    "len(selected_articles)"
   ]
  },
  {
   "cell_type": "code",
   "execution_count": 12,
   "id": "9c9c73e6",
   "metadata": {},
   "outputs": [
    {
     "data": {
      "text/plain": [
       "{'id': '0802.1888',\n",
       " 'submitter': 'K Sreeram',\n",
       " 'authors': 'K. Sreeram, S. Birenjith and P. Vijay Kumar',\n",
       " 'title': 'Multi-hop Cooperative Wireless Networks: Diversity Multiplexing Tradeoff\\n  and Optimal Code Design',\n",
       " 'comments': None,\n",
       " 'journal-ref': None,\n",
       " 'doi': None,\n",
       " 'report-no': None,\n",
       " 'categories': 'cs.IT math.IT',\n",
       " 'license': None,\n",
       " 'abstract': '  We consider single-source single-sink (ss-ss) multi-hop networks, with\\nslow-fading links and single-antenna half-duplex relays. We identify two\\nfamilies of networks that are multi-hop generalizations of the well-studied\\ntwo-hop network: K-Parallel-Path (KPP) networks and layered networks. KPP\\nnetworks can be viewed as the union of K node-disjoint parallel relaying paths,\\neach of length greater than one. KPP networks are then generalized to KPP(I)\\nnetworks, which permit interference between paths and to KPP(D) networks, which\\npossess a direct link from source to sink. We characterize the DMT of these\\nfamilies of networks completely for K > 3. Layered networks are networks\\ncomprising of relaying layers with edges existing only within the same layer or\\nbetween adjacent layers. We prove that a linear DMT between the maximum\\ndiversity d_{max} and the maximum multiplexing gain of 1 is achievable for\\nfully-connected layered networks. This is shown to be equal to the optimal DMT\\nif the number of layers is less than 4. For multi-antenna KPP and layered\\nnetworks, we provide an achievable DMT region.\\n  For arbitrary ss-ss single-antenna directed-acyclic full-duplex networks, we\\nprove that a linear tradeoff between maximum diversity and maximum multiplexing\\ngain is achievable. All protocols in this paper are explicit and use only\\namplify and forward (AF) relaying. We also construct codes with short\\nblock-lengths based on cyclic division algebras that achieve the optimal DMT\\nfor all the proposed schemes. Two key implications of the results in the paper\\nare that the half-duplex constraint does not entail any rate loss for a large\\nclass of networks and that simple AF protocols are often sufficient to attain\\nthe optimal DMT.\\n',\n",
       " 'versions': [{'version': 'v1', 'created': 'Wed, 13 Feb 2008 20:57:54 GMT'}],\n",
       " 'update_date': '2008-02-14',\n",
       " 'authors_parsed': [['Sreeram', 'K.', ''],\n",
       "  ['Birenjith', 'S.', ''],\n",
       "  ['Kumar', 'P. Vijay', '']]}"
      ]
     },
     "execution_count": 12,
     "metadata": {},
     "output_type": "execute_result"
    }
   ],
   "source": [
    "selected_articles[1000]"
   ]
  },
  {
   "cell_type": "code",
   "execution_count": 13,
   "id": "c9452a64",
   "metadata": {},
   "outputs": [],
   "source": [
    "with open(\"selected_articles.json\", 'w') as file:\n",
    "    json.dump(selected_articles, file)"
   ]
  },
  {
   "cell_type": "code",
   "execution_count": 14,
   "id": "31882fba",
   "metadata": {},
   "outputs": [
    {
     "data": {
      "text/html": [
       "<div>\n",
       "<style scoped>\n",
       "    .dataframe tbody tr th:only-of-type {\n",
       "        vertical-align: middle;\n",
       "    }\n",
       "\n",
       "    .dataframe tbody tr th {\n",
       "        vertical-align: top;\n",
       "    }\n",
       "\n",
       "    .dataframe thead th {\n",
       "        text-align: right;\n",
       "    }\n",
       "</style>\n",
       "<table border=\"1\" class=\"dataframe\">\n",
       "  <thead>\n",
       "    <tr style=\"text-align: right;\">\n",
       "      <th></th>\n",
       "      <th>id</th>\n",
       "      <th>submitter</th>\n",
       "      <th>authors</th>\n",
       "      <th>title</th>\n",
       "      <th>comments</th>\n",
       "      <th>journal-ref</th>\n",
       "      <th>doi</th>\n",
       "      <th>report-no</th>\n",
       "      <th>categories</th>\n",
       "      <th>license</th>\n",
       "      <th>abstract</th>\n",
       "      <th>versions</th>\n",
       "      <th>update_date</th>\n",
       "      <th>authors_parsed</th>\n",
       "    </tr>\n",
       "  </thead>\n",
       "  <tbody>\n",
       "    <tr>\n",
       "      <th>0</th>\n",
       "      <td>0704.0046</td>\n",
       "      <td>Denes Petz</td>\n",
       "      <td>I. Csiszar, F. Hiai and D. Petz</td>\n",
       "      <td>A limit relation for entropy and channel capac...</td>\n",
       "      <td>LATEX file, 11 pages</td>\n",
       "      <td>J. Math. Phys. 48(2007), 092102.</td>\n",
       "      <td>10.1063/1.2779138</td>\n",
       "      <td>None</td>\n",
       "      <td>quant-ph cs.IT math.IT</td>\n",
       "      <td>None</td>\n",
       "      <td>In a quantum mechanical model, Diosi, Feldma...</td>\n",
       "      <td>[{'version': 'v1', 'created': 'Sun, 1 Apr 2007...</td>\n",
       "      <td>2009-11-13</td>\n",
       "      <td>[[Csiszar, I., ], [Hiai, F., ], [Petz, D., ]]</td>\n",
       "    </tr>\n",
       "    <tr>\n",
       "      <th>1</th>\n",
       "      <td>0704.0047</td>\n",
       "      <td>Igor Grabec</td>\n",
       "      <td>T. Kosel and I. Grabec</td>\n",
       "      <td>Intelligent location of simultaneously active ...</td>\n",
       "      <td>5 pages, 5 eps figures, uses IEEEtran.cls</td>\n",
       "      <td>None</td>\n",
       "      <td>None</td>\n",
       "      <td>None</td>\n",
       "      <td>cs.NE cs.AI</td>\n",
       "      <td>None</td>\n",
       "      <td>The intelligent acoustic emission locator is...</td>\n",
       "      <td>[{'version': 'v1', 'created': 'Sun, 1 Apr 2007...</td>\n",
       "      <td>2009-09-29</td>\n",
       "      <td>[[Kosel, T., ], [Grabec, I., ]]</td>\n",
       "    </tr>\n",
       "    <tr>\n",
       "      <th>2</th>\n",
       "      <td>0704.0050</td>\n",
       "      <td>Igor Grabec</td>\n",
       "      <td>T. Kosel and I. Grabec</td>\n",
       "      <td>Intelligent location of simultaneously active ...</td>\n",
       "      <td>5 pages, 7 eps figures, uses IEEEtran.cls</td>\n",
       "      <td>None</td>\n",
       "      <td>None</td>\n",
       "      <td>None</td>\n",
       "      <td>cs.NE cs.AI</td>\n",
       "      <td>None</td>\n",
       "      <td>Part I describes an intelligent acoustic emi...</td>\n",
       "      <td>[{'version': 'v1', 'created': 'Sun, 1 Apr 2007...</td>\n",
       "      <td>2007-05-23</td>\n",
       "      <td>[[Kosel, T., ], [Grabec, I., ]]</td>\n",
       "    </tr>\n",
       "    <tr>\n",
       "      <th>3</th>\n",
       "      <td>0704.0098</td>\n",
       "      <td>Jack Raymond</td>\n",
       "      <td>Jack Raymond, David Saad</td>\n",
       "      <td>Sparsely-spread CDMA - a statistical mechanics...</td>\n",
       "      <td>23 pages, 5 figures, figure 1 amended since pu...</td>\n",
       "      <td>J. Phys. A: Math. Theor. 40 No 41 (12 October ...</td>\n",
       "      <td>10.1088/1751-8113/40/41/004</td>\n",
       "      <td>None</td>\n",
       "      <td>cs.IT math.IT</td>\n",
       "      <td>None</td>\n",
       "      <td>Sparse Code Division Multiple Access (CDMA),...</td>\n",
       "      <td>[{'version': 'v1', 'created': 'Sun, 1 Apr 2007...</td>\n",
       "      <td>2009-11-13</td>\n",
       "      <td>[[Raymond, Jack, ], [Saad, David, ]]</td>\n",
       "    </tr>\n",
       "    <tr>\n",
       "      <th>4</th>\n",
       "      <td>0704.0217</td>\n",
       "      <td>Wiroonsak Santipach</td>\n",
       "      <td>Wiroonsak Santipach and Michael L. Honig</td>\n",
       "      <td>Capacity of a Multiple-Antenna Fading Channel ...</td>\n",
       "      <td>None</td>\n",
       "      <td>IEEE Trans. Inf. Theory, vol. 55, no. 3, pp. 1...</td>\n",
       "      <td>10.1109/TIT.2008.2011437</td>\n",
       "      <td>None</td>\n",
       "      <td>cs.IT math.IT</td>\n",
       "      <td>http://arxiv.org/licenses/nonexclusive-distrib...</td>\n",
       "      <td>Given a multiple-input multiple-output (MIMO...</td>\n",
       "      <td>[{'version': 'v1', 'created': 'Mon, 2 Apr 2007...</td>\n",
       "      <td>2010-08-27</td>\n",
       "      <td>[[Santipach, Wiroonsak, ], [Honig, Michael L., ]]</td>\n",
       "    </tr>\n",
       "    <tr>\n",
       "      <th>...</th>\n",
       "      <td>...</td>\n",
       "      <td>...</td>\n",
       "      <td>...</td>\n",
       "      <td>...</td>\n",
       "      <td>...</td>\n",
       "      <td>...</td>\n",
       "      <td>...</td>\n",
       "      <td>...</td>\n",
       "      <td>...</td>\n",
       "      <td>...</td>\n",
       "      <td>...</td>\n",
       "      <td>...</td>\n",
       "      <td>...</td>\n",
       "      <td>...</td>\n",
       "    </tr>\n",
       "    <tr>\n",
       "      <th>219356</th>\n",
       "      <td>quant-ph/0703112</td>\n",
       "      <td>Martin Roetteler</td>\n",
       "      <td>Markus Grassl, Andreas Klappenecker, Martin Ro...</td>\n",
       "      <td>Graphs, Quadratic Forms, and Quantum Codes</td>\n",
       "      <td>5 pages, 2 figures, paper presented at the 200...</td>\n",
       "      <td>Proceedings 2002 IEEE International Symposium ...</td>\n",
       "      <td>10.1109/ISIT.2002.1023317</td>\n",
       "      <td>None</td>\n",
       "      <td>quant-ph cs.IT math.IT</td>\n",
       "      <td>None</td>\n",
       "      <td>We show that any stabilizer code over a fini...</td>\n",
       "      <td>[{'version': 'v1', 'created': 'Tue, 13 Mar 200...</td>\n",
       "      <td>2009-05-24</td>\n",
       "      <td>[[Grassl, Markus, ], [Klappenecker, Andreas, ]...</td>\n",
       "    </tr>\n",
       "    <tr>\n",
       "      <th>219357</th>\n",
       "      <td>quant-ph/0703113</td>\n",
       "      <td>Martin Roetteler</td>\n",
       "      <td>Salah A. Aly, Markus Grassl, Andreas Klappenec...</td>\n",
       "      <td>Quantum Convolutional BCH Codes</td>\n",
       "      <td>4 pages, minor changes, accepted for publicati...</td>\n",
       "      <td>Proceedings 2007 Canadian Workshop on Informat...</td>\n",
       "      <td>10.1109/CWIT.2007.375730</td>\n",
       "      <td>None</td>\n",
       "      <td>quant-ph cs.IT math.IT</td>\n",
       "      <td>None</td>\n",
       "      <td>Quantum convolutional codes can be used to p...</td>\n",
       "      <td>[{'version': 'v1', 'created': 'Tue, 13 Mar 200...</td>\n",
       "      <td>2009-05-24</td>\n",
       "      <td>[[Aly, Salah A., ], [Grassl, Markus, ], [Klapp...</td>\n",
       "    </tr>\n",
       "    <tr>\n",
       "      <th>219358</th>\n",
       "      <td>quant-ph/0703181</td>\n",
       "      <td>Martin Roetteler</td>\n",
       "      <td>Markus Grassl, Martin Roetteler</td>\n",
       "      <td>Quantum Block and Convolutional Codes from Sel...</td>\n",
       "      <td>5 pages, paper presented at the 2005 IEEE Inte...</td>\n",
       "      <td>Proceedings 2005 IEEE International Symposium ...</td>\n",
       "      <td>10.1109/ISIT.2005.1523493</td>\n",
       "      <td>None</td>\n",
       "      <td>quant-ph cs.IT math.IT</td>\n",
       "      <td>None</td>\n",
       "      <td>We present a construction of self-orthogonal...</td>\n",
       "      <td>[{'version': 'v1', 'created': 'Mon, 19 Mar 200...</td>\n",
       "      <td>2009-05-24</td>\n",
       "      <td>[[Grassl, Markus, ], [Roetteler, Martin, ]]</td>\n",
       "    </tr>\n",
       "    <tr>\n",
       "      <th>219359</th>\n",
       "      <td>quant-ph/0703182</td>\n",
       "      <td>Martin Roetteler</td>\n",
       "      <td>Markus Grassl, Martin Roetteler</td>\n",
       "      <td>Constructions of Quantum Convolutional Codes</td>\n",
       "      <td>5 pages, to appear in the Proceedings of the 2...</td>\n",
       "      <td>Proceedings 2007 IEEE International Symposium ...</td>\n",
       "      <td>10.1109/ISIT.2007.4557325</td>\n",
       "      <td>None</td>\n",
       "      <td>quant-ph cs.IT math.IT</td>\n",
       "      <td>None</td>\n",
       "      <td>We address the problems of constructing quan...</td>\n",
       "      <td>[{'version': 'v1', 'created': 'Mon, 19 Mar 200...</td>\n",
       "      <td>2009-05-24</td>\n",
       "      <td>[[Grassl, Markus, ], [Roetteler, Martin, ]]</td>\n",
       "    </tr>\n",
       "    <tr>\n",
       "      <th>219360</th>\n",
       "      <td>quant-ph/9809081</td>\n",
       "      <td>Dr. Daniel A. Lidar</td>\n",
       "      <td>D.A. Lidar, D. Bacon and K.B. Whaley (UC Berke...</td>\n",
       "      <td>Concatenating Decoherence Free Subspaces with ...</td>\n",
       "      <td>4 pages, no figures. Several changes. To appea...</td>\n",
       "      <td>Phys.Rev.Lett. 82 (1999) 4556-4559</td>\n",
       "      <td>10.1103/PhysRevLett.82.4556</td>\n",
       "      <td>None</td>\n",
       "      <td>quant-ph cs.IT math-ph math.IT math.MP</td>\n",
       "      <td>None</td>\n",
       "      <td>An operator sum representation is derived fo...</td>\n",
       "      <td>[{'version': 'v1', 'created': 'Mon, 28 Sep 199...</td>\n",
       "      <td>2016-09-08</td>\n",
       "      <td>[[Lidar, D. A., , UC Berkeley], [Bacon, D., , ...</td>\n",
       "    </tr>\n",
       "  </tbody>\n",
       "</table>\n",
       "<p>219361 rows × 14 columns</p>\n",
       "</div>"
      ],
      "text/plain": [
       "                      id            submitter  \\\n",
       "0              0704.0046           Denes Petz   \n",
       "1              0704.0047          Igor Grabec   \n",
       "2              0704.0050          Igor Grabec   \n",
       "3              0704.0098         Jack Raymond   \n",
       "4              0704.0217  Wiroonsak Santipach   \n",
       "...                  ...                  ...   \n",
       "219356  quant-ph/0703112     Martin Roetteler   \n",
       "219357  quant-ph/0703113     Martin Roetteler   \n",
       "219358  quant-ph/0703181     Martin Roetteler   \n",
       "219359  quant-ph/0703182     Martin Roetteler   \n",
       "219360  quant-ph/9809081  Dr. Daniel A. Lidar   \n",
       "\n",
       "                                                  authors  \\\n",
       "0                         I. Csiszar, F. Hiai and D. Petz   \n",
       "1                                  T. Kosel and I. Grabec   \n",
       "2                                  T. Kosel and I. Grabec   \n",
       "3                                Jack Raymond, David Saad   \n",
       "4                Wiroonsak Santipach and Michael L. Honig   \n",
       "...                                                   ...   \n",
       "219356  Markus Grassl, Andreas Klappenecker, Martin Ro...   \n",
       "219357  Salah A. Aly, Markus Grassl, Andreas Klappenec...   \n",
       "219358                    Markus Grassl, Martin Roetteler   \n",
       "219359                    Markus Grassl, Martin Roetteler   \n",
       "219360  D.A. Lidar, D. Bacon and K.B. Whaley (UC Berke...   \n",
       "\n",
       "                                                    title  \\\n",
       "0       A limit relation for entropy and channel capac...   \n",
       "1       Intelligent location of simultaneously active ...   \n",
       "2       Intelligent location of simultaneously active ...   \n",
       "3       Sparsely-spread CDMA - a statistical mechanics...   \n",
       "4       Capacity of a Multiple-Antenna Fading Channel ...   \n",
       "...                                                   ...   \n",
       "219356         Graphs, Quadratic Forms, and Quantum Codes   \n",
       "219357                    Quantum Convolutional BCH Codes   \n",
       "219358  Quantum Block and Convolutional Codes from Sel...   \n",
       "219359       Constructions of Quantum Convolutional Codes   \n",
       "219360  Concatenating Decoherence Free Subspaces with ...   \n",
       "\n",
       "                                                 comments  \\\n",
       "0                                    LATEX file, 11 pages   \n",
       "1               5 pages, 5 eps figures, uses IEEEtran.cls   \n",
       "2               5 pages, 7 eps figures, uses IEEEtran.cls   \n",
       "3       23 pages, 5 figures, figure 1 amended since pu...   \n",
       "4                                                    None   \n",
       "...                                                   ...   \n",
       "219356  5 pages, 2 figures, paper presented at the 200...   \n",
       "219357  4 pages, minor changes, accepted for publicati...   \n",
       "219358  5 pages, paper presented at the 2005 IEEE Inte...   \n",
       "219359  5 pages, to appear in the Proceedings of the 2...   \n",
       "219360  4 pages, no figures. Several changes. To appea...   \n",
       "\n",
       "                                              journal-ref  \\\n",
       "0                        J. Math. Phys. 48(2007), 092102.   \n",
       "1                                                    None   \n",
       "2                                                    None   \n",
       "3       J. Phys. A: Math. Theor. 40 No 41 (12 October ...   \n",
       "4       IEEE Trans. Inf. Theory, vol. 55, no. 3, pp. 1...   \n",
       "...                                                   ...   \n",
       "219356  Proceedings 2002 IEEE International Symposium ...   \n",
       "219357  Proceedings 2007 Canadian Workshop on Informat...   \n",
       "219358  Proceedings 2005 IEEE International Symposium ...   \n",
       "219359  Proceedings 2007 IEEE International Symposium ...   \n",
       "219360                 Phys.Rev.Lett. 82 (1999) 4556-4559   \n",
       "\n",
       "                                doi report-no  \\\n",
       "0                 10.1063/1.2779138      None   \n",
       "1                              None      None   \n",
       "2                              None      None   \n",
       "3       10.1088/1751-8113/40/41/004      None   \n",
       "4          10.1109/TIT.2008.2011437      None   \n",
       "...                             ...       ...   \n",
       "219356    10.1109/ISIT.2002.1023317      None   \n",
       "219357     10.1109/CWIT.2007.375730      None   \n",
       "219358    10.1109/ISIT.2005.1523493      None   \n",
       "219359    10.1109/ISIT.2007.4557325      None   \n",
       "219360  10.1103/PhysRevLett.82.4556      None   \n",
       "\n",
       "                                    categories  \\\n",
       "0                       quant-ph cs.IT math.IT   \n",
       "1                                  cs.NE cs.AI   \n",
       "2                                  cs.NE cs.AI   \n",
       "3                                cs.IT math.IT   \n",
       "4                                cs.IT math.IT   \n",
       "...                                        ...   \n",
       "219356                  quant-ph cs.IT math.IT   \n",
       "219357                  quant-ph cs.IT math.IT   \n",
       "219358                  quant-ph cs.IT math.IT   \n",
       "219359                  quant-ph cs.IT math.IT   \n",
       "219360  quant-ph cs.IT math-ph math.IT math.MP   \n",
       "\n",
       "                                                  license  \\\n",
       "0                                                    None   \n",
       "1                                                    None   \n",
       "2                                                    None   \n",
       "3                                                    None   \n",
       "4       http://arxiv.org/licenses/nonexclusive-distrib...   \n",
       "...                                                   ...   \n",
       "219356                                               None   \n",
       "219357                                               None   \n",
       "219358                                               None   \n",
       "219359                                               None   \n",
       "219360                                               None   \n",
       "\n",
       "                                                 abstract  \\\n",
       "0         In a quantum mechanical model, Diosi, Feldma...   \n",
       "1         The intelligent acoustic emission locator is...   \n",
       "2         Part I describes an intelligent acoustic emi...   \n",
       "3         Sparse Code Division Multiple Access (CDMA),...   \n",
       "4         Given a multiple-input multiple-output (MIMO...   \n",
       "...                                                   ...   \n",
       "219356    We show that any stabilizer code over a fini...   \n",
       "219357    Quantum convolutional codes can be used to p...   \n",
       "219358    We present a construction of self-orthogonal...   \n",
       "219359    We address the problems of constructing quan...   \n",
       "219360    An operator sum representation is derived fo...   \n",
       "\n",
       "                                                 versions update_date  \\\n",
       "0       [{'version': 'v1', 'created': 'Sun, 1 Apr 2007...  2009-11-13   \n",
       "1       [{'version': 'v1', 'created': 'Sun, 1 Apr 2007...  2009-09-29   \n",
       "2       [{'version': 'v1', 'created': 'Sun, 1 Apr 2007...  2007-05-23   \n",
       "3       [{'version': 'v1', 'created': 'Sun, 1 Apr 2007...  2009-11-13   \n",
       "4       [{'version': 'v1', 'created': 'Mon, 2 Apr 2007...  2010-08-27   \n",
       "...                                                   ...         ...   \n",
       "219356  [{'version': 'v1', 'created': 'Tue, 13 Mar 200...  2009-05-24   \n",
       "219357  [{'version': 'v1', 'created': 'Tue, 13 Mar 200...  2009-05-24   \n",
       "219358  [{'version': 'v1', 'created': 'Mon, 19 Mar 200...  2009-05-24   \n",
       "219359  [{'version': 'v1', 'created': 'Mon, 19 Mar 200...  2009-05-24   \n",
       "219360  [{'version': 'v1', 'created': 'Mon, 28 Sep 199...  2016-09-08   \n",
       "\n",
       "                                           authors_parsed  \n",
       "0           [[Csiszar, I., ], [Hiai, F., ], [Petz, D., ]]  \n",
       "1                         [[Kosel, T., ], [Grabec, I., ]]  \n",
       "2                         [[Kosel, T., ], [Grabec, I., ]]  \n",
       "3                    [[Raymond, Jack, ], [Saad, David, ]]  \n",
       "4       [[Santipach, Wiroonsak, ], [Honig, Michael L., ]]  \n",
       "...                                                   ...  \n",
       "219356  [[Grassl, Markus, ], [Klappenecker, Andreas, ]...  \n",
       "219357  [[Aly, Salah A., ], [Grassl, Markus, ], [Klapp...  \n",
       "219358        [[Grassl, Markus, ], [Roetteler, Martin, ]]  \n",
       "219359        [[Grassl, Markus, ], [Roetteler, Martin, ]]  \n",
       "219360  [[Lidar, D. A., , UC Berkeley], [Bacon, D., , ...  \n",
       "\n",
       "[219361 rows x 14 columns]"
      ]
     },
     "execution_count": 14,
     "metadata": {},
     "output_type": "execute_result"
    }
   ],
   "source": [
    "pd.DataFrame(selected_articles)"
   ]
  },
  {
   "cell_type": "code",
   "execution_count": null,
   "id": "1338ade0",
   "metadata": {},
   "outputs": [],
   "source": []
  }
 ],
 "metadata": {
  "kernelspec": {
   "display_name": "Python 3 (ipykernel)",
   "language": "python",
   "name": "python3"
  },
  "language_info": {
   "codemirror_mode": {
    "name": "ipython",
    "version": 3
   },
   "file_extension": ".py",
   "mimetype": "text/x-python",
   "name": "python",
   "nbconvert_exporter": "python",
   "pygments_lexer": "ipython3",
   "version": "3.9.1"
  }
 },
 "nbformat": 4,
 "nbformat_minor": 5
}
